{
 "cells": [
  {
   "cell_type": "code",
   "execution_count": 31,
   "metadata": {},
   "outputs": [
    {
     "name": "stdout",
     "output_type": "stream",
     "text": [
      "The autoreload extension is already loaded. To reload it, use:\n",
      "  %reload_ext autoreload\n"
     ]
    }
   ],
   "source": [
    "# matlotlib inline plotting\n",
    "%matplotlib inline\n",
    "%load_ext autoreload\n",
    "%autoreload 2"
   ]
  },
  {
   "cell_type": "code",
   "execution_count": 32,
   "metadata": {
    "collapsed": true
   },
   "outputs": [],
   "source": [
    "from __future__ import print_function\n",
    "import matplotlib.pyplot as plt\n",
    "import numpy as np\n",
    "\n",
    "from utils import maybe_download as maybe_download\n",
    "from utils import maybe_extract as maybe_extract\n",
    "from utils import load_data as load_data"
   ]
  },
  {
   "cell_type": "markdown",
   "metadata": {},
   "source": [
    "# Fetch and Extract Data"
   ]
  },
  {
   "cell_type": "code",
   "execution_count": 33,
   "metadata": {
    "collapsed": true
   },
   "outputs": [],
   "source": [
    "url = 'http://ufldl.stanford.edu/housenumbers/'\n",
    "\n",
    "trainFilename = 'train.tar.gz'\n",
    "testFilename = 'test.tar.gz'\n",
    "extraFilename = 'extra.tar.gz'"
   ]
  },
  {
   "cell_type": "code",
   "execution_count": null,
   "metadata": {},
   "outputs": [
    {
     "name": "stdout",
     "output_type": "stream",
     "text": [
      "Found and verified train.tar.gz\n",
      "Found and verified test.tar.gz\n",
      "Found and verified extra.tar.gz\n",
      "Attempting to download: train_32x32.mat\n",
      "0%....5%....10%....15%....20%....25%....30%....35%....40%....45%....50%....55%....60%....65%....70%....75%....80%....85%....90%....95%....100%\n",
      "Download Complete!\n",
      "Found and verified train_32x32.mat\n",
      "Attempting to download: test_32x32.mat\n",
      "0%....5%....10%....15%....20%....25%....30%....35%....40%....45%....50%....55%....60%....65%....70%....75%....80%....85%....90%....95%....100%\n",
      "Download Complete!\n",
      "Found and verified test_32x32.mat\n",
      "Attempting to download: extra_32x32.mat\n",
      "0%....5%....10%....15%.."
     ]
    }
   ],
   "source": [
    "maybe_download(url, trainFilename, 404141560)\n",
    "maybe_download(url, testFilename, 276555967)\n",
    "maybe_download(url, extraFilename, 1955489752)\n",
    "\n",
    "maybe_download(url, 'train_32x32.mat', 182040794)\n",
    "maybe_download(url, 'test_32x32.mat', 64275384)\n",
    "maybe_download(url, 'extra_32x32.mat', 1329278602)"
   ]
  },
  {
   "cell_type": "code",
   "execution_count": null,
   "metadata": {},
   "outputs": [],
   "source": [
    "trainStruct = maybe_extract(trainFilename)\n",
    "testStruct = maybe_extract(testFilename)\n",
    "extraStruct = maybe_extract(extraFilename)"
   ]
  },
  {
   "cell_type": "markdown",
   "metadata": {
    "collapsed": true
   },
   "source": [
    "# Explore/Visualize Data"
   ]
  },
  {
   "cell_type": "code",
   "execution_count": null,
   "metadata": {},
   "outputs": [],
   "source": [
    "trainTuple = load_data('train/digitStruct.mat')\n",
    "testTuple = load_data('test/digitStruct.mat')\n",
    "extraTuple = load_data('extra/digitStruct.mat')"
   ]
  },
  {
   "cell_type": "code",
   "execution_count": null,
   "metadata": {
    "collapsed": true
   },
   "outputs": [],
   "source": []
  }
 ],
 "metadata": {
  "kernelspec": {
   "display_name": "Python 3",
   "language": "python",
   "name": "python3"
  },
  "language_info": {
   "codemirror_mode": {
    "name": "ipython",
    "version": 3
   },
   "file_extension": ".py",
   "mimetype": "text/x-python",
   "name": "python",
   "nbconvert_exporter": "python",
   "pygments_lexer": "ipython3",
   "version": "3.6.1"
  }
 },
 "nbformat": 4,
 "nbformat_minor": 2
}
