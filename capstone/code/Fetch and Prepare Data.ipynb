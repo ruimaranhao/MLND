{
 "cells": [
  {
   "cell_type": "code",
   "execution_count": 31,
   "metadata": {},
   "outputs": [
    {
     "name": "stdout",
     "output_type": "stream",
     "text": [
      "The autoreload extension is already loaded. To reload it, use:\n",
      "  %reload_ext autoreload\n"
     ]
    }
   ],
   "source": [
    "# matlotlib inline plotting\n",
    "%matplotlib inline\n",
    "%load_ext autoreload\n",
    "%autoreload 2"
   ]
  },
  {
   "cell_type": "code",
   "execution_count": 58,
   "metadata": {
    "collapsed": true
   },
   "outputs": [],
   "source": [
    "from __future__ import print_function\n",
    "import matplotlib.pyplot as plt\n",
    "import matplotlib\n",
    "import numpy as np\n",
    "from six.moves import cPickle as pickle\n",
    "\n",
    "from collections import Counter\n",
    "\n",
    "from utils import maybe_download as maybe_download\n",
    "from utils import maybe_extract as maybe_extract\n",
    "from utils import load_data as load_data\n",
    "from utils import maybe_pickle as maybe_pickle"
   ]
  },
  {
   "cell_type": "markdown",
   "metadata": {},
   "source": [
    "# Fetch and Extract Data"
   ]
  },
  {
   "cell_type": "code",
   "execution_count": 33,
   "metadata": {
    "collapsed": true
   },
   "outputs": [],
   "source": [
    "url = 'http://ufldl.stanford.edu/housenumbers/'\n",
    "\n",
    "trainFilename = 'train.tar.gz'\n",
    "testFilename = 'test.tar.gz'\n",
    "extraFilename = 'extra.tar.gz'"
   ]
  },
  {
   "cell_type": "code",
   "execution_count": 34,
   "metadata": {},
   "outputs": [
    {
     "name": "stdout",
     "output_type": "stream",
     "text": [
      "Found and verified train.tar.gz\n",
      "Found and verified test.tar.gz\n",
      "Found and verified extra.tar.gz\n",
      "Attempting to download: train_32x32.mat\n",
      "0%....5%....10%....15%....20%....25%....30%....35%....40%....45%....50%....55%....60%....65%....70%....75%....80%....85%....90%....95%....100%\n",
      "Download Complete!\n",
      "Found and verified train_32x32.mat\n",
      "Attempting to download: test_32x32.mat\n",
      "0%....5%....10%....15%....20%....25%....30%....35%....40%....45%....50%....55%....60%....65%....70%....75%....80%....85%....90%....95%....100%\n",
      "Download Complete!\n",
      "Found and verified test_32x32.mat\n",
      "Attempting to download: extra_32x32.mat\n",
      "0%....5%....10%....15%....20%....25%....30%....35%....40%....45%....50%....55%....60%....65%....70%....75%....80%....85%....90%....95%....100%\n",
      "Download Complete!\n",
      "Found and verified extra_32x32.mat\n"
     ]
    },
    {
     "data": {
      "text/plain": [
       "'extra_32x32.mat'"
      ]
     },
     "execution_count": 34,
     "metadata": {},
     "output_type": "execute_result"
    }
   ],
   "source": [
    "maybe_download(url, trainFilename, 404141560)\n",
    "maybe_download(url, testFilename, 276555967)\n",
    "maybe_download(url, extraFilename, 1955489752)\n",
    "\n",
    "maybe_download(url, 'train_32x32.mat', 182040794)\n",
    "maybe_download(url, 'test_32x32.mat', 64275384)\n",
    "maybe_download(url, 'extra_32x32.mat', 1329278602)"
   ]
  },
  {
   "cell_type": "code",
   "execution_count": 35,
   "metadata": {},
   "outputs": [
    {
     "name": "stdout",
     "output_type": "stream",
     "text": [
      "train already present - Skipping extraction of train.tar.gz.\n",
      "Extracting data for test. This may take a while. Please wait.\n",
      "Extracting data for extra. This may take a while. Please wait.\n"
     ]
    }
   ],
   "source": [
    "trainStruct = maybe_extract(trainFilename)\n",
    "testStruct = maybe_extract(testFilename)\n",
    "extraStruct = maybe_extract(extraFilename)"
   ]
  },
  {
   "cell_type": "markdown",
   "metadata": {
    "collapsed": true
   },
   "source": [
    "# Explore/Visualize Data"
   ]
  },
  {
   "cell_type": "code",
   "execution_count": 37,
   "metadata": {},
   "outputs": [
    {
     "name": "stdout",
     "output_type": "stream",
     "text": [
      "0 elapsed\n",
      "5000 elapsed\n",
      "10000 elapsed\n",
      "15000 elapsed\n",
      "20000 elapsed\n",
      "25000 elapsed\n",
      "30000 elapsed\n",
      "0 elapsed\n",
      "5000 elapsed\n",
      "10000 elapsed\n",
      "0 elapsed\n",
      "5000 elapsed\n",
      "10000 elapsed\n",
      "15000 elapsed\n",
      "20000 elapsed\n",
      "25000 elapsed\n",
      "30000 elapsed\n",
      "35000 elapsed\n",
      "40000 elapsed\n",
      "45000 elapsed\n",
      "50000 elapsed\n",
      "55000 elapsed\n",
      "60000 elapsed\n",
      "65000 elapsed\n",
      "70000 elapsed\n",
      "75000 elapsed\n",
      "80000 elapsed\n",
      "85000 elapsed\n",
      "90000 elapsed\n",
      "95000 elapsed\n",
      "100000 elapsed\n",
      "105000 elapsed\n",
      "110000 elapsed\n",
      "115000 elapsed\n",
      "120000 elapsed\n",
      "125000 elapsed\n",
      "130000 elapsed\n",
      "135000 elapsed\n",
      "140000 elapsed\n",
      "145000 elapsed\n",
      "150000 elapsed\n",
      "155000 elapsed\n",
      "160000 elapsed\n",
      "165000 elapsed\n",
      "170000 elapsed\n",
      "175000 elapsed\n",
      "180000 elapsed\n",
      "185000 elapsed\n",
      "190000 elapsed\n",
      "195000 elapsed\n",
      "200000 elapsed\n"
     ]
    }
   ],
   "source": [
    "trainTuple = load_data('train/digitStruct.mat')\n",
    "testTuple = load_data('test/digitStruct.mat')\n",
    "extraTuple = load_data('extra/digitStruct.mat')"
   ]
  },
  {
   "cell_type": "code",
   "execution_count": 38,
   "metadata": {},
   "outputs": [
    {
     "data": {
      "text/plain": [
       "(4, 6)"
      ]
     },
     "execution_count": 38,
     "metadata": {},
     "output_type": "execute_result"
    }
   ],
   "source": [
    "extraTuple[0][[1,2,3,4]].shape"
   ]
  },
  {
   "cell_type": "code",
   "execution_count": 39,
   "metadata": {},
   "outputs": [
    {
     "data": {
      "text/plain": [
       "(4, 6)"
      ]
     },
     "execution_count": 39,
     "metadata": {},
     "output_type": "execute_result"
    }
   ],
   "source": [
    "trainTuple[0][[1,2,3,4]].shape"
   ]
  },
  {
   "cell_type": "code",
   "execution_count": 40,
   "metadata": {},
   "outputs": [
    {
     "data": {
      "text/plain": [
       "(4, 6)"
      ]
     },
     "execution_count": 40,
     "metadata": {},
     "output_type": "execute_result"
    }
   ],
   "source": [
    "testTuple[0][[1,2,3,4]].shape"
   ]
  },
  {
   "cell_type": "markdown",
   "metadata": {},
   "source": [
    "#### saving dataset "
   ]
  },
  {
   "cell_type": "code",
   "execution_count": 45,
   "metadata": {},
   "outputs": [
    {
     "name": "stdout",
     "output_type": "stream",
     "text": [
      "dataset already present - Skipping pickling.\n"
     ]
    },
    {
     "data": {
      "text/plain": [
       "'dataset.pickle'"
      ]
     },
     "execution_count": 45,
     "metadata": {},
     "output_type": "execute_result"
    }
   ],
   "source": [
    "maybe_pickle('dataset', trainTuple, testTuple, extraTuple)"
   ]
  },
  {
   "cell_type": "markdown",
   "metadata": {},
   "source": [
    "#### load dataset"
   ]
  },
  {
   "cell_type": "code",
   "execution_count": 71,
   "metadata": {},
   "outputs": [],
   "source": [
    "try:\n",
    "    with open('dataset.pickle', 'rb') as f:\n",
    "            dataset = pickle.load(f)\n",
    "        \n",
    "except Exception as e:\n",
    "    print('Unable to process data (dataset.pickle)', ':', e)\n",
    "    raise"
   ]
  },
  {
   "cell_type": "markdown",
   "metadata": {},
   "source": [
    "#### data exploration"
   ]
  },
  {
   "cell_type": "code",
   "execution_count": 68,
   "metadata": {},
   "outputs": [
    {
     "data": {
      "image/png": "[encoded data removed]",
      "text/plain": [
       "<matplotlib.figure.Figure at 0x10a984668>"
      ]
     },
     "metadata": {},
     "output_type": "display_data"
    },
    {
     "data": {
      "image/png": "[encoded data removed]",
      "text/plain": [
       "<matplotlib.figure.Figure at 0x10812a390>"
      ]
     },
     "metadata": {},
     "output_type": "display_data"
    },
    {
     "data": {
      "image/png": "[encoded data removed]",
      "text/plain": [
       "<matplotlib.figure.Figure at 0x10a1754e0>"
      ]
     },
     "metadata": {},
     "output_type": "display_data"
    }
   ],
   "source": [
    "for data in ('train', 'test', 'extra'):\n",
    "    c = Counter(np.sum(dataset[data][\"tops\"] > 0, axis =1))\n",
    "    l = plt.bar(list(c.keys()), list(c.values()), 1, color=\"blue\")\n",
    "\n",
    "    plt.xlabel('Number of characters')\n",
    "    plt.ylabel('Sample Size')\n",
    "    plt.title('Dataset: ' + data)\n",
    "\n",
    "    plt.show()"
   ]
  },
  {
   "cell_type": "code",
   "execution_count": null,
   "metadata": {
    "collapsed": true
   },
   "outputs": [],
   "source": []
  },
  {
   "cell_type": "code",
   "execution_count": null,
   "metadata": {
    "collapsed": true
   },
   "outputs": [],
   "source": []
  }
 ],
 "metadata": {
  "kernelspec": {
   "display_name": "Python 3",
   "language": "python",
   "name": "python3"
  },
  "language_info": {
   "codemirror_mode": {
    "name": "ipython",
    "version": 3
   },
   "file_extension": ".py",
   "mimetype": "text/x-python",
   "name": "python",
   "nbconvert_exporter": "python",
   "pygments_lexer": "ipython3",
   "version": "3.6.1"
  }
 },
 "nbformat": 4,
 "nbformat_minor": 2
}
