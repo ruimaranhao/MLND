{
 "cells": [
  {
   "cell_type": "code",
   "execution_count": 2,
   "metadata": {
    "collapsed": true
   },
   "outputs": [],
   "source": [
    "# matlotlib inline plotting\n",
    "%matplotlib inline\n",
    "%load_ext autoreload\n",
    "%autoreload 2"
   ]
  },
  {
   "cell_type": "code",
   "execution_count": 3,
   "metadata": {
    "collapsed": true
   },
   "outputs": [],
   "source": [
    "import numpy as np\n",
    "import matplotlib.pyplot as plt\n",
    "import pandas as pd\n",
    "\n",
    "import tensorflow as tf\n",
    "\n",
    "from IPython.display import display\n",
    "\n",
    "import seaborn as sns"
   ]
  },
  {
   "cell_type": "markdown",
   "metadata": {},
   "source": [
    "# Load dataset\n",
    "\n",
    "SP500_historical.csv - data contains returns for the S&P500 and VIX index going back over 23 years\n",
    "\n",
    "**Source**: Yahoo Finance"
   ]
  },
  {
   "cell_type": "code",
   "execution_count": 4,
   "metadata": {},
   "outputs": [
    {
     "name": "stdout",
     "output_type": "stream",
     "text": [
      "Number of data points: 5962\n"
     ]
    }
   ],
   "source": [
    "dataset = pd.read_csv(\"data/SP500_historical.csv\", header=0)\n",
    "print (\"Number of data points:\", len(dataset))"
   ]
  },
  {
   "cell_type": "code",
   "execution_count": 5,
   "metadata": {},
   "outputs": [
    {
     "name": "stdout",
     "output_type": "stream",
     "text": [
      "['Date', 'SP_Open', 'SP_High', 'SP_Low', 'SP_Close', 'SP_Volume', 'Vix_Open', 'Vix_High', 'Vix_Low', 'Vix_Close']\n"
     ]
    }
   ],
   "source": [
    "print (list(dataset))"
   ]
  },
  {
   "cell_type": "code",
   "execution_count": 6,
   "metadata": {},
   "outputs": [
    {
     "data": {
      "text/html": [
       "<div>\n",
       "<style>\n",
       "    .dataframe thead tr:only-child th {\n",
       "        text-align: right;\n",
       "    }\n",
       "\n",
       "    .dataframe thead th {\n",
       "        text-align: left;\n",
       "    }\n",
       "\n",
       "    .dataframe tbody tr th {\n",
       "        vertical-align: top;\n",
       "    }\n",
       "</style>\n",
       "<table border=\"1\" class=\"dataframe\">\n",
       "  <thead>\n",
       "    <tr style=\"text-align: right;\">\n",
       "      <th></th>\n",
       "      <th>Date</th>\n",
       "      <th>SP_Open</th>\n",
       "      <th>SP_High</th>\n",
       "      <th>SP_Low</th>\n",
       "      <th>SP_Close</th>\n",
       "      <th>SP_Volume</th>\n",
       "      <th>Vix_Open</th>\n",
       "      <th>Vix_High</th>\n",
       "      <th>Vix_Low</th>\n",
       "      <th>Vix_Close</th>\n",
       "    </tr>\n",
       "  </thead>\n",
       "  <tbody>\n",
       "    <tr>\n",
       "      <th>0</th>\n",
       "      <td>9/29/16</td>\n",
       "      <td>2168.90</td>\n",
       "      <td>2172.67</td>\n",
       "      <td>2145.20</td>\n",
       "      <td>2151.13</td>\n",
       "      <td>4249220000</td>\n",
       "      <td>12.53</td>\n",
       "      <td>15.69</td>\n",
       "      <td>12.14</td>\n",
       "      <td>14.02</td>\n",
       "    </tr>\n",
       "    <tr>\n",
       "      <th>1</th>\n",
       "      <td>9/28/16</td>\n",
       "      <td>2161.85</td>\n",
       "      <td>2172.40</td>\n",
       "      <td>2151.79</td>\n",
       "      <td>2171.37</td>\n",
       "      <td>3891460000</td>\n",
       "      <td>12.90</td>\n",
       "      <td>13.57</td>\n",
       "      <td>12.24</td>\n",
       "      <td>12.39</td>\n",
       "    </tr>\n",
       "    <tr>\n",
       "      <th>2</th>\n",
       "      <td>9/27/16</td>\n",
       "      <td>2146.04</td>\n",
       "      <td>2161.13</td>\n",
       "      <td>2141.55</td>\n",
       "      <td>2159.93</td>\n",
       "      <td>3437770000</td>\n",
       "      <td>13.36</td>\n",
       "      <td>14.76</td>\n",
       "      <td>12.97</td>\n",
       "      <td>13.10</td>\n",
       "    </tr>\n",
       "    <tr>\n",
       "      <th>3</th>\n",
       "      <td>9/26/16</td>\n",
       "      <td>2158.54</td>\n",
       "      <td>2158.54</td>\n",
       "      <td>2145.04</td>\n",
       "      <td>2146.10</td>\n",
       "      <td>3216170000</td>\n",
       "      <td>13.26</td>\n",
       "      <td>14.63</td>\n",
       "      <td>13.26</td>\n",
       "      <td>14.50</td>\n",
       "    </tr>\n",
       "    <tr>\n",
       "      <th>4</th>\n",
       "      <td>9/23/16</td>\n",
       "      <td>2173.29</td>\n",
       "      <td>2173.75</td>\n",
       "      <td>2163.97</td>\n",
       "      <td>2164.69</td>\n",
       "      <td>3317190000</td>\n",
       "      <td>12.00</td>\n",
       "      <td>12.58</td>\n",
       "      <td>11.93</td>\n",
       "      <td>12.29</td>\n",
       "    </tr>\n",
       "    <tr>\n",
       "      <th>5</th>\n",
       "      <td>9/22/16</td>\n",
       "      <td>2170.94</td>\n",
       "      <td>2179.99</td>\n",
       "      <td>2170.94</td>\n",
       "      <td>2177.18</td>\n",
       "      <td>3552830000</td>\n",
       "      <td>13.39</td>\n",
       "      <td>13.39</td>\n",
       "      <td>11.76</td>\n",
       "      <td>12.02</td>\n",
       "    </tr>\n",
       "    <tr>\n",
       "      <th>6</th>\n",
       "      <td>9/21/16</td>\n",
       "      <td>2144.58</td>\n",
       "      <td>2165.11</td>\n",
       "      <td>2139.57</td>\n",
       "      <td>2163.12</td>\n",
       "      <td>3712090000</td>\n",
       "      <td>15.07</td>\n",
       "      <td>15.65</td>\n",
       "      <td>12.98</td>\n",
       "      <td>13.30</td>\n",
       "    </tr>\n",
       "    <tr>\n",
       "      <th>7</th>\n",
       "      <td>9/20/16</td>\n",
       "      <td>2145.94</td>\n",
       "      <td>2150.80</td>\n",
       "      <td>2139.17</td>\n",
       "      <td>2139.76</td>\n",
       "      <td>3140730000</td>\n",
       "      <td>14.98</td>\n",
       "      <td>16.09</td>\n",
       "      <td>14.69</td>\n",
       "      <td>15.92</td>\n",
       "    </tr>\n",
       "    <tr>\n",
       "      <th>8</th>\n",
       "      <td>9/19/16</td>\n",
       "      <td>2143.99</td>\n",
       "      <td>2153.61</td>\n",
       "      <td>2135.91</td>\n",
       "      <td>2139.12</td>\n",
       "      <td>3163000000</td>\n",
       "      <td>15.14</td>\n",
       "      <td>15.96</td>\n",
       "      <td>14.60</td>\n",
       "      <td>15.53</td>\n",
       "    </tr>\n",
       "    <tr>\n",
       "      <th>9</th>\n",
       "      <td>9/16/16</td>\n",
       "      <td>2146.48</td>\n",
       "      <td>2146.48</td>\n",
       "      <td>2131.20</td>\n",
       "      <td>2139.16</td>\n",
       "      <td>5014360000</td>\n",
       "      <td>16.41</td>\n",
       "      <td>17.10</td>\n",
       "      <td>15.28</td>\n",
       "      <td>15.37</td>\n",
       "    </tr>\n",
       "  </tbody>\n",
       "</table>\n",
       "</div>"
      ],
      "text/plain": [
       "      Date  SP_Open  SP_High   SP_Low  SP_Close   SP_Volume  Vix_Open  \\\n",
       "0  9/29/16  2168.90  2172.67  2145.20   2151.13  4249220000     12.53   \n",
       "1  9/28/16  2161.85  2172.40  2151.79   2171.37  3891460000     12.90   \n",
       "2  9/27/16  2146.04  2161.13  2141.55   2159.93  3437770000     13.36   \n",
       "3  9/26/16  2158.54  2158.54  2145.04   2146.10  3216170000     13.26   \n",
       "4  9/23/16  2173.29  2173.75  2163.97   2164.69  3317190000     12.00   \n",
       "5  9/22/16  2170.94  2179.99  2170.94   2177.18  3552830000     13.39   \n",
       "6  9/21/16  2144.58  2165.11  2139.57   2163.12  3712090000     15.07   \n",
       "7  9/20/16  2145.94  2150.80  2139.17   2139.76  3140730000     14.98   \n",
       "8  9/19/16  2143.99  2153.61  2135.91   2139.12  3163000000     15.14   \n",
       "9  9/16/16  2146.48  2146.48  2131.20   2139.16  5014360000     16.41   \n",
       "\n",
       "   Vix_High  Vix_Low  Vix_Close  \n",
       "0     15.69    12.14      14.02  \n",
       "1     13.57    12.24      12.39  \n",
       "2     14.76    12.97      13.10  \n",
       "3     14.63    13.26      14.50  \n",
       "4     12.58    11.93      12.29  \n",
       "5     13.39    11.76      12.02  \n",
       "6     15.65    12.98      13.30  \n",
       "7     16.09    14.69      15.92  \n",
       "8     15.96    14.60      15.53  \n",
       "9     17.10    15.28      15.37  "
      ]
     },
     "execution_count": 6,
     "metadata": {},
     "output_type": "execute_result"
    }
   ],
   "source": [
    "dataset.head(10)"
   ]
  },
  {
   "cell_type": "code",
   "execution_count": 7,
   "metadata": {
    "collapsed": true
   },
   "outputs": [],
   "source": [
    "dataset['Date'] = pd.to_datetime(dataset['Date'])"
   ]
  },
  {
   "cell_type": "code",
   "execution_count": 8,
   "metadata": {},
   "outputs": [
    {
     "data": {
      "text/html": [
       "<div>\n",
       "<style>\n",
       "    .dataframe thead tr:only-child th {\n",
       "        text-align: right;\n",
       "    }\n",
       "\n",
       "    .dataframe thead th {\n",
       "        text-align: left;\n",
       "    }\n",
       "\n",
       "    .dataframe tbody tr th {\n",
       "        vertical-align: top;\n",
       "    }\n",
       "</style>\n",
       "<table border=\"1\" class=\"dataframe\">\n",
       "  <thead>\n",
       "    <tr style=\"text-align: right;\">\n",
       "      <th></th>\n",
       "      <th>Date</th>\n",
       "      <th>SP_Open</th>\n",
       "      <th>SP_High</th>\n",
       "      <th>SP_Low</th>\n",
       "      <th>SP_Close</th>\n",
       "      <th>SP_Volume</th>\n",
       "      <th>Vix_Open</th>\n",
       "      <th>Vix_High</th>\n",
       "      <th>Vix_Low</th>\n",
       "      <th>Vix_Close</th>\n",
       "    </tr>\n",
       "  </thead>\n",
       "  <tbody>\n",
       "    <tr>\n",
       "      <th>0</th>\n",
       "      <td>2016-09-29</td>\n",
       "      <td>2168.90</td>\n",
       "      <td>2172.67</td>\n",
       "      <td>2145.20</td>\n",
       "      <td>2151.13</td>\n",
       "      <td>4249220000</td>\n",
       "      <td>12.53</td>\n",
       "      <td>15.69</td>\n",
       "      <td>12.14</td>\n",
       "      <td>14.02</td>\n",
       "    </tr>\n",
       "    <tr>\n",
       "      <th>1</th>\n",
       "      <td>2016-09-28</td>\n",
       "      <td>2161.85</td>\n",
       "      <td>2172.40</td>\n",
       "      <td>2151.79</td>\n",
       "      <td>2171.37</td>\n",
       "      <td>3891460000</td>\n",
       "      <td>12.90</td>\n",
       "      <td>13.57</td>\n",
       "      <td>12.24</td>\n",
       "      <td>12.39</td>\n",
       "    </tr>\n",
       "    <tr>\n",
       "      <th>2</th>\n",
       "      <td>2016-09-27</td>\n",
       "      <td>2146.04</td>\n",
       "      <td>2161.13</td>\n",
       "      <td>2141.55</td>\n",
       "      <td>2159.93</td>\n",
       "      <td>3437770000</td>\n",
       "      <td>13.36</td>\n",
       "      <td>14.76</td>\n",
       "      <td>12.97</td>\n",
       "      <td>13.10</td>\n",
       "    </tr>\n",
       "    <tr>\n",
       "      <th>3</th>\n",
       "      <td>2016-09-26</td>\n",
       "      <td>2158.54</td>\n",
       "      <td>2158.54</td>\n",
       "      <td>2145.04</td>\n",
       "      <td>2146.10</td>\n",
       "      <td>3216170000</td>\n",
       "      <td>13.26</td>\n",
       "      <td>14.63</td>\n",
       "      <td>13.26</td>\n",
       "      <td>14.50</td>\n",
       "    </tr>\n",
       "    <tr>\n",
       "      <th>4</th>\n",
       "      <td>2016-09-23</td>\n",
       "      <td>2173.29</td>\n",
       "      <td>2173.75</td>\n",
       "      <td>2163.97</td>\n",
       "      <td>2164.69</td>\n",
       "      <td>3317190000</td>\n",
       "      <td>12.00</td>\n",
       "      <td>12.58</td>\n",
       "      <td>11.93</td>\n",
       "      <td>12.29</td>\n",
       "    </tr>\n",
       "  </tbody>\n",
       "</table>\n",
       "</div>"
      ],
      "text/plain": [
       "        Date  SP_Open  SP_High   SP_Low  SP_Close   SP_Volume  Vix_Open  \\\n",
       "0 2016-09-29  2168.90  2172.67  2145.20   2151.13  4249220000     12.53   \n",
       "1 2016-09-28  2161.85  2172.40  2151.79   2171.37  3891460000     12.90   \n",
       "2 2016-09-27  2146.04  2161.13  2141.55   2159.93  3437770000     13.36   \n",
       "3 2016-09-26  2158.54  2158.54  2145.04   2146.10  3216170000     13.26   \n",
       "4 2016-09-23  2173.29  2173.75  2163.97   2164.69  3317190000     12.00   \n",
       "\n",
       "   Vix_High  Vix_Low  Vix_Close  \n",
       "0     15.69    12.14      14.02  \n",
       "1     13.57    12.24      12.39  \n",
       "2     14.76    12.97      13.10  \n",
       "3     14.63    13.26      14.50  \n",
       "4     12.58    11.93      12.29  "
      ]
     },
     "execution_count": 8,
     "metadata": {},
     "output_type": "execute_result"
    }
   ],
   "source": [
    "dataset.head()"
   ]
  },
  {
   "cell_type": "markdown",
   "metadata": {},
   "source": [
    "#### Visualizations"
   ]
  },
  {
   "cell_type": "code",
   "execution_count": 9,
   "metadata": {},
   "outputs": [
    {
     "data": {
      "image/png": "[encoded data removed]",
      "text/plain": [
       "<matplotlib.figure.Figure at 0x105ec5f98>"
      ]
     },
     "metadata": {},
     "output_type": "display_data"
    }
   ],
   "source": [
    "plot_data = dataset.SP_Close\n",
    "plot_data_VIX = dataset.Vix_Close\n",
    "\n",
    "f, axes = plt.subplots(2, 1)\n",
    "\n",
    "axes[0].axis([5962,0,400,2200])\n",
    "axes[0].plot(plot_data)\n",
    "axes[0].set_ylabel('S&P500 Close')\n",
    "#axes[0].set_yticks([400,800,1200,1600,2000,2400])\n",
    "\n",
    "axes[1].axis([5962,0,0,100])\n",
    "axes[1].plot(plot_data_VIX)\n",
    "axes[1].set_ylabel('VIX Close')\n",
    "plt.xlabel('Trading Days Since Most Recent Day')\n",
    "plt.savefig('../figs/trading_close.png')"
   ]
  },
  {
   "cell_type": "code",
   "execution_count": 10,
   "metadata": {},
   "outputs": [
    {
     "data": {
      "image/png": "[encoded data removed]",
      "text/plain": [
       "<matplotlib.figure.Figure at 0x105ec59b0>"
      ]
     },
     "metadata": {},
     "output_type": "display_data"
    }
   ],
   "source": [
    "plot_data_Volume = dataset.SP_Volume / 1000000\n",
    "\n",
    "plt.axis([5962,0,14,12000])\n",
    "plt.plot(plot_data_Volume)\n",
    "plt.ylabel('S&P500 Volume (in millions of shares)')\n",
    "plt.xlabel('Trading Days Since Most Recent Day')\n",
    "plt.savefig('../figs/volume.png')"
   ]
  },
  {
   "cell_type": "markdown",
   "metadata": {},
   "source": [
    "## Create set of Features"
   ]
  },
  {
   "cell_type": "markdown",
   "metadata": {},
   "source": [
    "#### Calculate the 'Break_Coming' feature, which is a measure of whether the market will close for a break on the next day\n"
   ]
  },
  {
   "cell_type": "code",
   "execution_count": 11,
   "metadata": {
    "collapsed": true
   },
   "outputs": [],
   "source": [
    "dataset['Days_Since_Open'] = (dataset['Date'] - dataset['Date'].shift(-1))\n",
    "dataset['Days_Since_Open'] = dataset['Days_Since_Open'].astype('timedelta64[D]')\n",
    "\n",
    "dataset['Break_Coming'] = dataset['Days_Since_Open'].shift(1).apply(lambda x: 1 if x > 1 else 0)\n",
    "#dataset.Break_Coming.fillna(0, inplace=True)"
   ]
  },
  {
   "cell_type": "markdown",
   "metadata": {},
   "source": [
    "#### Calculate the 'Overnight_Return' feature and the 'Overnight_VIX' feature, which measures whether the VIX has opened up or down relative to previous day\n"
   ]
  },
  {
   "cell_type": "code",
   "execution_count": 12,
   "metadata": {
    "collapsed": true
   },
   "outputs": [],
   "source": [
    "dataset['Overnight_Return'] = dataset['SP_Open'] / dataset['SP_Close'].shift(-1) - 1\n"
   ]
  },
  {
   "cell_type": "markdown",
   "metadata": {},
   "source": [
    "#### Calculate the 'No_Overnight_Change' value. This is not a feature, but was used to identify unreliable data rows"
   ]
  },
  {
   "cell_type": "code",
   "execution_count": 13,
   "metadata": {
    "collapsed": true
   },
   "outputs": [],
   "source": [
    "dataset['No_Overnight_Change'] = dataset['Overnight_Return'].apply(lambda v : 1 if v == 0.00 else 0)"
   ]
  },
  {
   "cell_type": "code",
   "execution_count": 14,
   "metadata": {
    "collapsed": true
   },
   "outputs": [],
   "source": [
    "dataset['Overnight_VIX'] = dataset['Vix_Open'] / dataset['Vix_Close'].shift(-1) - 1"
   ]
  },
  {
   "cell_type": "markdown",
   "metadata": {
    "collapsed": true
   },
   "source": [
    "#### Calculate the 'O2O' feature, which compares the current opening price to the previous day"
   ]
  },
  {
   "cell_type": "code",
   "execution_count": 15,
   "metadata": {
    "collapsed": true
   },
   "outputs": [],
   "source": [
    "dataset['O2O'] = dataset['SP_Open'] / dataset['SP_Open'].shift(-1) - 1"
   ]
  },
  {
   "cell_type": "markdown",
   "metadata": {},
   "source": [
    "#### Calculate 11 different trailing return features, 9 based on the S&P500 data and 2 based on VIX data\n"
   ]
  },
  {
   "cell_type": "code",
   "execution_count": 16,
   "metadata": {
    "collapsed": true
   },
   "outputs": [],
   "source": [
    "dataset['1d_Ret'] = dataset['SP_Close'].shift(-1) / dataset['SP_Close'].shift(-2) - 1\n",
    "dataset['2d_Ret'] = dataset['SP_Close'].shift(-1) / dataset['SP_Close'].shift(-3) - 1\n",
    "dataset['3d_Ret'] = dataset['SP_Close'].shift(-1) / dataset['SP_Close'].shift(-4) - 1\n",
    "dataset['4d_Ret'] = dataset['SP_Close'].shift(-1) / dataset['SP_Close'].shift(-5) - 1\n",
    "#1 week of trading has typically 5 days\n",
    "dataset['5d_Ret'] = dataset['SP_Close'].shift(-1) / dataset['SP_Close'].shift(-6) - 1\n",
    "#1 month of trading has typically 21 days\n",
    "dataset['21d_Ret'] = dataset['SP_Close'].shift(-1) / dataset['SP_Close'].shift(-22) - 1\n",
    "#3 months of trading\n",
    "dataset['63d_Ret'] = dataset['SP_Close'].shift(-1) / dataset['SP_Close'].shift(-64) - 1\n",
    "#6 months of trading\n",
    "dataset['126d_Ret'] = dataset['SP_Close'].shift(-1) / dataset['SP_Close'].shift(-127) - 1\n",
    "#9 months of trading\n",
    "dataset['189d_Ret'] = dataset['SP_Close'].shift(-1) / dataset['SP_Close'].shift(-190) - 1\n",
    "#12 months of trading\n",
    "dataset['252d_Ret'] = dataset['SP_Close'].shift(-1) / dataset['SP_Close'].shift(-253) - 1\n",
    "\n",
    "\n",
    "dataset['1d_VIX'] = dataset['Vix_Close'].shift(-1) / dataset['Vix_Close'].shift(-2) - 1\n",
    "dataset['5d_VIX'] = dataset['Vix_Close'].shift(-1) / dataset['Vix_Close'].shift(-6) - 1"
   ]
  },
  {
   "cell_type": "markdown",
   "metadata": {},
   "source": [
    "#### Calculate 2 different trailing volume features, which measure whether the last day's volume is above or below recent averages"
   ]
  },
  {
   "cell_type": "code",
   "execution_count": 17,
   "metadata": {
    "collapsed": true
   },
   "outputs": [],
   "source": [
    "dataset['1d_Rel_Vol'] = dataset['SP_Volume'].shift(-1) / (\n",
    "    dataset['SP_Volume'].rolling(window=4).mean().shift(-5)) - 1\n",
    "\n",
    "dataset['5d_Rel_Vol'] = dataset['SP_Volume'].rolling(window=5).mean().shift(-5) / (\n",
    "    dataset['SP_Volume'].rolling(window=21).mean().shift(-26)) - 1"
   ]
  },
  {
   "cell_type": "markdown",
   "metadata": {},
   "source": [
    "#### Calculate the '1d_PtT' feature, which measure how much the S&P500 moved from high to low values on the previous trading day\n",
    "\n",
    "#### Calculate the '1d_VIX_PtT' feature, which measure how much the VIX moved from high to low values on the previous trading day"
   ]
  },
  {
   "cell_type": "code",
   "execution_count": 18,
   "metadata": {
    "collapsed": true
   },
   "outputs": [],
   "source": [
    "dataset['1d_PtT'] = (dataset['SP_High'].shift(-1) - dataset['SP_Low'].shift(-1)) / (0.5*(\n",
    "        dataset['SP_Open'].shift(-1) + dataset['SP_Close'].shift(-1)))\n",
    "\n",
    "dataset['1d_VIX_PtT'] = (dataset['Vix_High'].shift(-1) - dataset['Vix_Low'].shift(-1)) / (0.5*(\n",
    "        dataset['Vix_Open'].shift(-1) + dataset['Vix_Close'].shift(-1)))"
   ]
  },
  {
   "cell_type": "markdown",
   "metadata": {},
   "source": [
    "#### Calculate the 'Intraday_Increase' label, which is ultimately what the machine learner should predict, and as is a measure of whether the S&P500 increased on a given day (value = 1) or not (value = 0)"
   ]
  },
  {
   "cell_type": "code",
   "execution_count": 19,
   "metadata": {
    "collapsed": true
   },
   "outputs": [],
   "source": [
    "dataset['Intraday_Increase'] = (dataset['SP_Close'] - dataset['SP_Open']).apply(lambda v: 1 if v > 0 else 0)"
   ]
  },
  {
   "cell_type": "markdown",
   "metadata": {},
   "source": [
    "Delete those rows that have N/A values (e.g. one cannot do a 252 day trailing return if there are fewer than 252 days trailing a given data point)"
   ]
  },
  {
   "cell_type": "code",
   "execution_count": 20,
   "metadata": {},
   "outputs": [
    {
     "name": "stdout",
     "output_type": "stream",
     "text": [
      "Number of data points: 5709\n"
     ]
    }
   ],
   "source": [
    "noNA_data = dataset.dropna()\n",
    "print (\"Number of data points:\", len(noNA_data))"
   ]
  },
  {
   "cell_type": "markdown",
   "metadata": {},
   "source": [
    "Delete rows where 'No_Overnight_Change' is equal to 1: these are points where the opening value is **identical** to the previous closing data, which likely reflects missing true opening prices: the chances of the market opening at the identical level as the previous close are slim to none. Most of these points came from the older portion of the data set. There were almost no points like this in the most recent 10 years!"
   ]
  },
  {
   "cell_type": "code",
   "execution_count": 21,
   "metadata": {},
   "outputs": [
    {
     "name": "stdout",
     "output_type": "stream",
     "text": [
      "Number of data points: 2678\n"
     ]
    }
   ],
   "source": [
    "validated_data = noNA_data[noNA_data.No_Overnight_Change != 1]\n",
    "print (\"Number of data points:\", len(validated_data))\n",
    "\n",
    "validated_data.to_csv(\"data/curated_all_fields_dataset.csv\", sep='\\t')"
   ]
  },
  {
   "cell_type": "markdown",
   "metadata": {},
   "source": [
    "Drop columns that would allow the machine learning algorithm to 'know the future': for example, it cannot be trained using SP_Close for any given day, since that would trivially allow it to calculate whether the market closed up on any given day. It can only be provided information that one would know at the start of the day (i.e. data from previous days and the opening data). This rules out High, Low and Close values for the market and the VIX and also the market volume for any given day. \n",
    "\n",
    "Finally, we will limit the analysis to relative returns, not absolute values of the indeces, given that the stock market tends to increase with time and hence comparing the absolute value of the S&P500 over a 20+ year period will not be helpful.\n",
    "\n",
    "In summary, the final data set will consist of only the **21 calculated features** and the 1 label, for the 2,678 validated data rows."
   ]
  },
  {
   "cell_type": "code",
   "execution_count": 22,
   "metadata": {},
   "outputs": [
    {
     "name": "stdout",
     "output_type": "stream",
     "text": [
      "['Date', 'SP_Open', 'SP_High', 'SP_Low', 'SP_Close', 'SP_Volume', 'Vix_Open', 'Vix_High', 'Vix_Low', 'Vix_Close', 'Days_Since_Open', 'Break_Coming', 'Overnight_Return', 'No_Overnight_Change', 'Overnight_VIX', 'O2O', '1d_Ret', '2d_Ret', '3d_Ret', '4d_Ret', '5d_Ret', '21d_Ret', '63d_Ret', '126d_Ret', '189d_Ret', '252d_Ret', '1d_VIX', '5d_VIX', '1d_Rel_Vol', '5d_Rel_Vol', '1d_PtT', '1d_VIX_PtT', 'Intraday_Increase']\n"
     ]
    }
   ],
   "source": [
    "# Print the column headers of the current data set\n",
    "print (list(validated_data))"
   ]
  },
  {
   "cell_type": "code",
   "execution_count": 23,
   "metadata": {
    "collapsed": true
   },
   "outputs": [],
   "source": [
    "# Drop all but columns that are not one of the 21 features or the label\n",
    "data = validated_data.drop(validated_data.columns[[0,1,2,3,4,5,6,7,8,9,13]], axis=1)"
   ]
  },
  {
   "cell_type": "code",
   "execution_count": 24,
   "metadata": {},
   "outputs": [
    {
     "name": "stdout",
     "output_type": "stream",
     "text": [
      "['Days_Since_Open', 'Break_Coming', 'Overnight_Return', 'Overnight_VIX', 'O2O', '1d_Ret', '2d_Ret', '3d_Ret', '4d_Ret', '5d_Ret', '21d_Ret', '63d_Ret', '126d_Ret', '189d_Ret', '252d_Ret', '1d_VIX', '5d_VIX', '1d_Rel_Vol', '5d_Rel_Vol', '1d_PtT', '1d_VIX_PtT', 'Intraday_Increase']\n"
     ]
    }
   ],
   "source": [
    "# Print the headers of 'data', to validate that the correct columns were dropped\n",
    "print (list(data))"
   ]
  },
  {
   "cell_type": "markdown",
   "metadata": {},
   "source": [
    "#### Save curated dataset"
   ]
  },
  {
   "cell_type": "code",
   "execution_count": 25,
   "metadata": {
    "collapsed": true
   },
   "outputs": [],
   "source": [
    "data.to_csv(\"data/curated_dataset.csv\", sep='\\t')"
   ]
  },
  {
   "cell_type": "code",
   "execution_count": 26,
   "metadata": {},
   "outputs": [
    {
     "data": {
      "text/html": [
       "<div>\n",
       "<style>\n",
       "    .dataframe thead tr:only-child th {\n",
       "        text-align: right;\n",
       "    }\n",
       "\n",
       "    .dataframe thead th {\n",
       "        text-align: left;\n",
       "    }\n",
       "\n",
       "    .dataframe tbody tr th {\n",
       "        vertical-align: top;\n",
       "    }\n",
       "</style>\n",
       "<table border=\"1\" class=\"dataframe\">\n",
       "  <thead>\n",
       "    <tr style=\"text-align: right;\">\n",
       "      <th></th>\n",
       "      <th>Days_Since_Open</th>\n",
       "      <th>Break_Coming</th>\n",
       "      <th>Overnight_Return</th>\n",
       "      <th>Overnight_VIX</th>\n",
       "      <th>O2O</th>\n",
       "      <th>1d_Ret</th>\n",
       "      <th>2d_Ret</th>\n",
       "      <th>3d_Ret</th>\n",
       "      <th>4d_Ret</th>\n",
       "      <th>5d_Ret</th>\n",
       "      <th>...</th>\n",
       "      <th>126d_Ret</th>\n",
       "      <th>189d_Ret</th>\n",
       "      <th>252d_Ret</th>\n",
       "      <th>1d_VIX</th>\n",
       "      <th>5d_VIX</th>\n",
       "      <th>1d_Rel_Vol</th>\n",
       "      <th>5d_Rel_Vol</th>\n",
       "      <th>1d_PtT</th>\n",
       "      <th>1d_VIX_PtT</th>\n",
       "      <th>Intraday_Increase</th>\n",
       "    </tr>\n",
       "  </thead>\n",
       "  <tbody>\n",
       "    <tr>\n",
       "      <th>count</th>\n",
       "      <td>2678.000000</td>\n",
       "      <td>2678.000000</td>\n",
       "      <td>2678.000000</td>\n",
       "      <td>2678.000000</td>\n",
       "      <td>2678.000000</td>\n",
       "      <td>2678.000000</td>\n",
       "      <td>2678.000000</td>\n",
       "      <td>2678.000000</td>\n",
       "      <td>2678.000000</td>\n",
       "      <td>2678.000000</td>\n",
       "      <td>...</td>\n",
       "      <td>2678.000000</td>\n",
       "      <td>2678.000000</td>\n",
       "      <td>2678.000000</td>\n",
       "      <td>2678.000000</td>\n",
       "      <td>2678.000000</td>\n",
       "      <td>2678.000000</td>\n",
       "      <td>2678.000000</td>\n",
       "      <td>2678.000000</td>\n",
       "      <td>2678.000000</td>\n",
       "      <td>2678.000000</td>\n",
       "    </tr>\n",
       "    <tr>\n",
       "      <th>mean</th>\n",
       "      <td>1.444735</td>\n",
       "      <td>0.210978</td>\n",
       "      <td>-0.000022</td>\n",
       "      <td>0.005908</td>\n",
       "      <td>0.000251</td>\n",
       "      <td>0.000260</td>\n",
       "      <td>0.000511</td>\n",
       "      <td>0.000612</td>\n",
       "      <td>0.000847</td>\n",
       "      <td>0.001112</td>\n",
       "      <td>...</td>\n",
       "      <td>0.029453</td>\n",
       "      <td>0.043546</td>\n",
       "      <td>0.059645</td>\n",
       "      <td>0.002947</td>\n",
       "      <td>0.010982</td>\n",
       "      <td>0.008819</td>\n",
       "      <td>0.010441</td>\n",
       "      <td>0.013533</td>\n",
       "      <td>0.085928</td>\n",
       "      <td>0.547050</td>\n",
       "    </tr>\n",
       "    <tr>\n",
       "      <th>std</th>\n",
       "      <td>0.875799</td>\n",
       "      <td>0.408079</td>\n",
       "      <td>0.001603</td>\n",
       "      <td>0.045081</td>\n",
       "      <td>0.012292</td>\n",
       "      <td>0.012973</td>\n",
       "      <td>0.017303</td>\n",
       "      <td>0.020321</td>\n",
       "      <td>0.023078</td>\n",
       "      <td>0.025472</td>\n",
       "      <td>...</td>\n",
       "      <td>0.124501</td>\n",
       "      <td>0.152028</td>\n",
       "      <td>0.173760</td>\n",
       "      <td>0.074680</td>\n",
       "      <td>0.155039</td>\n",
       "      <td>0.181773</td>\n",
       "      <td>0.156196</td>\n",
       "      <td>0.011147</td>\n",
       "      <td>0.050513</td>\n",
       "      <td>0.497874</td>\n",
       "    </tr>\n",
       "    <tr>\n",
       "      <th>min</th>\n",
       "      <td>1.000000</td>\n",
       "      <td>0.000000</td>\n",
       "      <td>-0.014194</td>\n",
       "      <td>-0.300366</td>\n",
       "      <td>-0.087119</td>\n",
       "      <td>-0.090350</td>\n",
       "      <td>-0.124174</td>\n",
       "      <td>-0.139059</td>\n",
       "      <td>-0.172221</td>\n",
       "      <td>-0.183401</td>\n",
       "      <td>...</td>\n",
       "      <td>-0.464658</td>\n",
       "      <td>-0.513279</td>\n",
       "      <td>-0.488228</td>\n",
       "      <td>-0.295726</td>\n",
       "      <td>-0.426630</td>\n",
       "      <td>-0.832518</td>\n",
       "      <td>-0.669690</td>\n",
       "      <td>0.002009</td>\n",
       "      <td>0.014966</td>\n",
       "      <td>0.000000</td>\n",
       "    </tr>\n",
       "    <tr>\n",
       "      <th>25%</th>\n",
       "      <td>1.000000</td>\n",
       "      <td>0.000000</td>\n",
       "      <td>-0.000407</td>\n",
       "      <td>-0.016031</td>\n",
       "      <td>-0.004256</td>\n",
       "      <td>-0.004494</td>\n",
       "      <td>-0.006988</td>\n",
       "      <td>-0.007946</td>\n",
       "      <td>-0.009736</td>\n",
       "      <td>-0.010137</td>\n",
       "      <td>...</td>\n",
       "      <td>-0.027543</td>\n",
       "      <td>-0.017576</td>\n",
       "      <td>-0.004349</td>\n",
       "      <td>-0.040230</td>\n",
       "      <td>-0.079295</td>\n",
       "      <td>-0.090512</td>\n",
       "      <td>-0.083042</td>\n",
       "      <td>0.006880</td>\n",
       "      <td>0.053312</td>\n",
       "      <td>0.000000</td>\n",
       "    </tr>\n",
       "    <tr>\n",
       "      <th>50%</th>\n",
       "      <td>1.000000</td>\n",
       "      <td>0.000000</td>\n",
       "      <td>-0.000008</td>\n",
       "      <td>0.000820</td>\n",
       "      <td>0.000642</td>\n",
       "      <td>0.000569</td>\n",
       "      <td>0.001294</td>\n",
       "      <td>0.002182</td>\n",
       "      <td>0.002630</td>\n",
       "      <td>0.003111</td>\n",
       "      <td>...</td>\n",
       "      <td>0.043190</td>\n",
       "      <td>0.063683</td>\n",
       "      <td>0.089677</td>\n",
       "      <td>-0.005022</td>\n",
       "      <td>-0.009048</td>\n",
       "      <td>-0.005982</td>\n",
       "      <td>-0.000374</td>\n",
       "      <td>0.010471</td>\n",
       "      <td>0.074426</td>\n",
       "      <td>1.000000</td>\n",
       "    </tr>\n",
       "    <tr>\n",
       "      <th>75%</th>\n",
       "      <td>1.000000</td>\n",
       "      <td>0.000000</td>\n",
       "      <td>0.000500</td>\n",
       "      <td>0.024785</td>\n",
       "      <td>0.005425</td>\n",
       "      <td>0.005642</td>\n",
       "      <td>0.008789</td>\n",
       "      <td>0.010729</td>\n",
       "      <td>0.012735</td>\n",
       "      <td>0.014399</td>\n",
       "      <td>...</td>\n",
       "      <td>0.097326</td>\n",
       "      <td>0.134731</td>\n",
       "      <td>0.163089</td>\n",
       "      <td>0.036402</td>\n",
       "      <td>0.072292</td>\n",
       "      <td>0.090148</td>\n",
       "      <td>0.089807</td>\n",
       "      <td>0.016249</td>\n",
       "      <td>0.103512</td>\n",
       "      <td>1.000000</td>\n",
       "    </tr>\n",
       "    <tr>\n",
       "      <th>max</th>\n",
       "      <td>5.000000</td>\n",
       "      <td>1.000000</td>\n",
       "      <td>0.015046</td>\n",
       "      <td>0.510725</td>\n",
       "      <td>0.106712</td>\n",
       "      <td>0.115800</td>\n",
       "      <td>0.132064</td>\n",
       "      <td>0.139480</td>\n",
       "      <td>0.179735</td>\n",
       "      <td>0.191112</td>\n",
       "      <td>...</td>\n",
       "      <td>0.502372</td>\n",
       "      <td>0.634783</td>\n",
       "      <td>0.685735</td>\n",
       "      <td>0.642152</td>\n",
       "      <td>2.129032</td>\n",
       "      <td>2.045477</td>\n",
       "      <td>0.947982</td>\n",
       "      <td>0.107198</td>\n",
       "      <td>0.734623</td>\n",
       "      <td>1.000000</td>\n",
       "    </tr>\n",
       "  </tbody>\n",
       "</table>\n",
       "<p>8 rows × 22 columns</p>\n",
       "</div>"
      ],
      "text/plain": [
       "       Days_Since_Open  Break_Coming  Overnight_Return  Overnight_VIX  \\\n",
       "count      2678.000000   2678.000000       2678.000000    2678.000000   \n",
       "mean          1.444735      0.210978         -0.000022       0.005908   \n",
       "std           0.875799      0.408079          0.001603       0.045081   \n",
       "min           1.000000      0.000000         -0.014194      -0.300366   \n",
       "25%           1.000000      0.000000         -0.000407      -0.016031   \n",
       "50%           1.000000      0.000000         -0.000008       0.000820   \n",
       "75%           1.000000      0.000000          0.000500       0.024785   \n",
       "max           5.000000      1.000000          0.015046       0.510725   \n",
       "\n",
       "               O2O       1d_Ret       2d_Ret       3d_Ret       4d_Ret  \\\n",
       "count  2678.000000  2678.000000  2678.000000  2678.000000  2678.000000   \n",
       "mean      0.000251     0.000260     0.000511     0.000612     0.000847   \n",
       "std       0.012292     0.012973     0.017303     0.020321     0.023078   \n",
       "min      -0.087119    -0.090350    -0.124174    -0.139059    -0.172221   \n",
       "25%      -0.004256    -0.004494    -0.006988    -0.007946    -0.009736   \n",
       "50%       0.000642     0.000569     0.001294     0.002182     0.002630   \n",
       "75%       0.005425     0.005642     0.008789     0.010729     0.012735   \n",
       "max       0.106712     0.115800     0.132064     0.139480     0.179735   \n",
       "\n",
       "            5d_Ret        ...             126d_Ret     189d_Ret     252d_Ret  \\\n",
       "count  2678.000000        ...          2678.000000  2678.000000  2678.000000   \n",
       "mean      0.001112        ...             0.029453     0.043546     0.059645   \n",
       "std       0.025472        ...             0.124501     0.152028     0.173760   \n",
       "min      -0.183401        ...            -0.464658    -0.513279    -0.488228   \n",
       "25%      -0.010137        ...            -0.027543    -0.017576    -0.004349   \n",
       "50%       0.003111        ...             0.043190     0.063683     0.089677   \n",
       "75%       0.014399        ...             0.097326     0.134731     0.163089   \n",
       "max       0.191112        ...             0.502372     0.634783     0.685735   \n",
       "\n",
       "            1d_VIX       5d_VIX   1d_Rel_Vol   5d_Rel_Vol       1d_PtT  \\\n",
       "count  2678.000000  2678.000000  2678.000000  2678.000000  2678.000000   \n",
       "mean      0.002947     0.010982     0.008819     0.010441     0.013533   \n",
       "std       0.074680     0.155039     0.181773     0.156196     0.011147   \n",
       "min      -0.295726    -0.426630    -0.832518    -0.669690     0.002009   \n",
       "25%      -0.040230    -0.079295    -0.090512    -0.083042     0.006880   \n",
       "50%      -0.005022    -0.009048    -0.005982    -0.000374     0.010471   \n",
       "75%       0.036402     0.072292     0.090148     0.089807     0.016249   \n",
       "max       0.642152     2.129032     2.045477     0.947982     0.107198   \n",
       "\n",
       "        1d_VIX_PtT  Intraday_Increase  \n",
       "count  2678.000000        2678.000000  \n",
       "mean      0.085928           0.547050  \n",
       "std       0.050513           0.497874  \n",
       "min       0.014966           0.000000  \n",
       "25%       0.053312           0.000000  \n",
       "50%       0.074426           1.000000  \n",
       "75%       0.103512           1.000000  \n",
       "max       0.734623           1.000000  \n",
       "\n",
       "[8 rows x 22 columns]"
      ]
     },
     "metadata": {},
     "output_type": "display_data"
    }
   ],
   "source": [
    "display(data.describe())"
   ]
  },
  {
   "cell_type": "code",
   "execution_count": 27,
   "metadata": {},
   "outputs": [
    {
     "data": {
      "text/html": [
       "<div>\n",
       "<style>\n",
       "    .dataframe thead tr:only-child th {\n",
       "        text-align: right;\n",
       "    }\n",
       "\n",
       "    .dataframe thead th {\n",
       "        text-align: left;\n",
       "    }\n",
       "\n",
       "    .dataframe tbody tr th {\n",
       "        vertical-align: top;\n",
       "    }\n",
       "</style>\n",
       "<table border=\"1\" class=\"dataframe\">\n",
       "  <thead>\n",
       "    <tr style=\"text-align: right;\">\n",
       "      <th></th>\n",
       "      <th>Intraday_Increase</th>\n",
       "    </tr>\n",
       "  </thead>\n",
       "  <tbody>\n",
       "    <tr>\n",
       "      <th>count</th>\n",
       "      <td>2678.000000</td>\n",
       "    </tr>\n",
       "    <tr>\n",
       "      <th>mean</th>\n",
       "      <td>0.547050</td>\n",
       "    </tr>\n",
       "    <tr>\n",
       "      <th>std</th>\n",
       "      <td>0.497874</td>\n",
       "    </tr>\n",
       "    <tr>\n",
       "      <th>min</th>\n",
       "      <td>0.000000</td>\n",
       "    </tr>\n",
       "    <tr>\n",
       "      <th>25%</th>\n",
       "      <td>0.000000</td>\n",
       "    </tr>\n",
       "    <tr>\n",
       "      <th>50%</th>\n",
       "      <td>1.000000</td>\n",
       "    </tr>\n",
       "    <tr>\n",
       "      <th>75%</th>\n",
       "      <td>1.000000</td>\n",
       "    </tr>\n",
       "    <tr>\n",
       "      <th>max</th>\n",
       "      <td>1.000000</td>\n",
       "    </tr>\n",
       "  </tbody>\n",
       "</table>\n",
       "</div>"
      ],
      "text/plain": [
       "       Intraday_Increase\n",
       "count        2678.000000\n",
       "mean            0.547050\n",
       "std             0.497874\n",
       "min             0.000000\n",
       "25%             0.000000\n",
       "50%             1.000000\n",
       "75%             1.000000\n",
       "max             1.000000"
      ]
     },
     "metadata": {},
     "output_type": "display_data"
    }
   ],
   "source": [
    "# split features and labels:\n",
    "X = data.drop('Intraday_Increase', axis=1)\n",
    "y = pd.DataFrame(data['Intraday_Increase'])\n",
    "\n",
    "# Summarize the label data\n",
    "display(y.describe())"
   ]
  }
 ],
 "metadata": {
  "kernelspec": {
   "display_name": "Python 2",
   "language": "python",
   "name": "python2"
  },
  "language_info": {
   "codemirror_mode": {
    "name": "ipython",
    "version": 2
   },
   "file_extension": ".py",
   "mimetype": "text/x-python",
   "name": "python",
   "nbconvert_exporter": "python",
   "pygments_lexer": "ipython2",
   "version": "2.7.13"
  }
 },
 "nbformat": 4,
 "nbformat_minor": 2
}
